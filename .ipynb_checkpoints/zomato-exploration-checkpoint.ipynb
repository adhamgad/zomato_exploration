{
 "cells": [
  {
   "cell_type": "markdown",
   "metadata": {},
   "source": [
    "# Zomato Exploration\n",
    "## by Adham Gad\n",
    "\n",
    "## Preliminary Wrangling\n",
    "\n",
    "> This dataset is provided by Zomato, and can be downloaded from [here](https://www.kaggle.com/shrutimehta/zomato-restaurants-data). It contains restaurants info, cuisines, prices and ratings "
   ]
  },
  {
   "cell_type": "code",
   "execution_count": 1,
   "metadata": {},
   "outputs": [],
   "source": [
    "# import all packages and set plots to be embedded inline\n",
    "import numpy as np\n",
    "import pandas as pd\n",
    "import matplotlib.pyplot as plt\n",
    "import seaborn as sb\n",
    "\n",
    "%matplotlib inline"
   ]
  },
  {
   "cell_type": "code",
   "execution_count": 2,
   "metadata": {},
   "outputs": [
    {
     "data": {
      "text/html": [
       "<div>\n",
       "<style scoped>\n",
       "    .dataframe tbody tr th:only-of-type {\n",
       "        vertical-align: middle;\n",
       "    }\n",
       "\n",
       "    .dataframe tbody tr th {\n",
       "        vertical-align: top;\n",
       "    }\n",
       "\n",
       "    .dataframe thead th {\n",
       "        text-align: right;\n",
       "    }\n",
       "</style>\n",
       "<table border=\"1\" class=\"dataframe\">\n",
       "  <thead>\n",
       "    <tr style=\"text-align: right;\">\n",
       "      <th></th>\n",
       "      <th>Restaurant ID</th>\n",
       "      <th>Restaurant Name</th>\n",
       "      <th>Country Code</th>\n",
       "      <th>City</th>\n",
       "      <th>Address</th>\n",
       "      <th>Locality</th>\n",
       "      <th>Locality Verbose</th>\n",
       "      <th>Longitude</th>\n",
       "      <th>Latitude</th>\n",
       "      <th>Cuisines</th>\n",
       "      <th>...</th>\n",
       "      <th>Currency</th>\n",
       "      <th>Has Table booking</th>\n",
       "      <th>Has Online delivery</th>\n",
       "      <th>Is delivering now</th>\n",
       "      <th>Switch to order menu</th>\n",
       "      <th>Price range</th>\n",
       "      <th>Aggregate rating</th>\n",
       "      <th>Rating color</th>\n",
       "      <th>Rating text</th>\n",
       "      <th>Votes</th>\n",
       "    </tr>\n",
       "  </thead>\n",
       "  <tbody>\n",
       "    <tr>\n",
       "      <th>0</th>\n",
       "      <td>6317637</td>\n",
       "      <td>Le Petit Souffle</td>\n",
       "      <td>162</td>\n",
       "      <td>Makati City</td>\n",
       "      <td>Third Floor, Century City Mall, Kalayaan Avenu...</td>\n",
       "      <td>Century City Mall, Poblacion, Makati City</td>\n",
       "      <td>Century City Mall, Poblacion, Makati City, Mak...</td>\n",
       "      <td>121.027535</td>\n",
       "      <td>14.565443</td>\n",
       "      <td>French, Japanese, Desserts</td>\n",
       "      <td>...</td>\n",
       "      <td>Botswana Pula(P)</td>\n",
       "      <td>Yes</td>\n",
       "      <td>No</td>\n",
       "      <td>No</td>\n",
       "      <td>No</td>\n",
       "      <td>3</td>\n",
       "      <td>4.8</td>\n",
       "      <td>Dark Green</td>\n",
       "      <td>Excellent</td>\n",
       "      <td>314</td>\n",
       "    </tr>\n",
       "    <tr>\n",
       "      <th>1</th>\n",
       "      <td>6304287</td>\n",
       "      <td>Izakaya Kikufuji</td>\n",
       "      <td>162</td>\n",
       "      <td>Makati City</td>\n",
       "      <td>Little Tokyo, 2277 Chino Roces Avenue, Legaspi...</td>\n",
       "      <td>Little Tokyo, Legaspi Village, Makati City</td>\n",
       "      <td>Little Tokyo, Legaspi Village, Makati City, Ma...</td>\n",
       "      <td>121.014101</td>\n",
       "      <td>14.553708</td>\n",
       "      <td>Japanese</td>\n",
       "      <td>...</td>\n",
       "      <td>Botswana Pula(P)</td>\n",
       "      <td>Yes</td>\n",
       "      <td>No</td>\n",
       "      <td>No</td>\n",
       "      <td>No</td>\n",
       "      <td>3</td>\n",
       "      <td>4.5</td>\n",
       "      <td>Dark Green</td>\n",
       "      <td>Excellent</td>\n",
       "      <td>591</td>\n",
       "    </tr>\n",
       "    <tr>\n",
       "      <th>2</th>\n",
       "      <td>6300002</td>\n",
       "      <td>Heat - Edsa Shangri-La</td>\n",
       "      <td>162</td>\n",
       "      <td>Mandaluyong City</td>\n",
       "      <td>Edsa Shangri-La, 1 Garden Way, Ortigas, Mandal...</td>\n",
       "      <td>Edsa Shangri-La, Ortigas, Mandaluyong City</td>\n",
       "      <td>Edsa Shangri-La, Ortigas, Mandaluyong City, Ma...</td>\n",
       "      <td>121.056831</td>\n",
       "      <td>14.581404</td>\n",
       "      <td>Seafood, Asian, Filipino, Indian</td>\n",
       "      <td>...</td>\n",
       "      <td>Botswana Pula(P)</td>\n",
       "      <td>Yes</td>\n",
       "      <td>No</td>\n",
       "      <td>No</td>\n",
       "      <td>No</td>\n",
       "      <td>4</td>\n",
       "      <td>4.4</td>\n",
       "      <td>Green</td>\n",
       "      <td>Very Good</td>\n",
       "      <td>270</td>\n",
       "    </tr>\n",
       "    <tr>\n",
       "      <th>3</th>\n",
       "      <td>6318506</td>\n",
       "      <td>Ooma</td>\n",
       "      <td>162</td>\n",
       "      <td>Mandaluyong City</td>\n",
       "      <td>Third Floor, Mega Fashion Hall, SM Megamall, O...</td>\n",
       "      <td>SM Megamall, Ortigas, Mandaluyong City</td>\n",
       "      <td>SM Megamall, Ortigas, Mandaluyong City, Mandal...</td>\n",
       "      <td>121.056475</td>\n",
       "      <td>14.585318</td>\n",
       "      <td>Japanese, Sushi</td>\n",
       "      <td>...</td>\n",
       "      <td>Botswana Pula(P)</td>\n",
       "      <td>No</td>\n",
       "      <td>No</td>\n",
       "      <td>No</td>\n",
       "      <td>No</td>\n",
       "      <td>4</td>\n",
       "      <td>4.9</td>\n",
       "      <td>Dark Green</td>\n",
       "      <td>Excellent</td>\n",
       "      <td>365</td>\n",
       "    </tr>\n",
       "    <tr>\n",
       "      <th>4</th>\n",
       "      <td>6314302</td>\n",
       "      <td>Sambo Kojin</td>\n",
       "      <td>162</td>\n",
       "      <td>Mandaluyong City</td>\n",
       "      <td>Third Floor, Mega Atrium, SM Megamall, Ortigas...</td>\n",
       "      <td>SM Megamall, Ortigas, Mandaluyong City</td>\n",
       "      <td>SM Megamall, Ortigas, Mandaluyong City, Mandal...</td>\n",
       "      <td>121.057508</td>\n",
       "      <td>14.584450</td>\n",
       "      <td>Japanese, Korean</td>\n",
       "      <td>...</td>\n",
       "      <td>Botswana Pula(P)</td>\n",
       "      <td>Yes</td>\n",
       "      <td>No</td>\n",
       "      <td>No</td>\n",
       "      <td>No</td>\n",
       "      <td>4</td>\n",
       "      <td>4.8</td>\n",
       "      <td>Dark Green</td>\n",
       "      <td>Excellent</td>\n",
       "      <td>229</td>\n",
       "    </tr>\n",
       "  </tbody>\n",
       "</table>\n",
       "<p>5 rows × 21 columns</p>\n",
       "</div>"
      ],
      "text/plain": [
       "   Restaurant ID         Restaurant Name  Country Code              City  \\\n",
       "0        6317637        Le Petit Souffle           162       Makati City   \n",
       "1        6304287        Izakaya Kikufuji           162       Makati City   \n",
       "2        6300002  Heat - Edsa Shangri-La           162  Mandaluyong City   \n",
       "3        6318506                    Ooma           162  Mandaluyong City   \n",
       "4        6314302             Sambo Kojin           162  Mandaluyong City   \n",
       "\n",
       "                                             Address  \\\n",
       "0  Third Floor, Century City Mall, Kalayaan Avenu...   \n",
       "1  Little Tokyo, 2277 Chino Roces Avenue, Legaspi...   \n",
       "2  Edsa Shangri-La, 1 Garden Way, Ortigas, Mandal...   \n",
       "3  Third Floor, Mega Fashion Hall, SM Megamall, O...   \n",
       "4  Third Floor, Mega Atrium, SM Megamall, Ortigas...   \n",
       "\n",
       "                                     Locality  \\\n",
       "0   Century City Mall, Poblacion, Makati City   \n",
       "1  Little Tokyo, Legaspi Village, Makati City   \n",
       "2  Edsa Shangri-La, Ortigas, Mandaluyong City   \n",
       "3      SM Megamall, Ortigas, Mandaluyong City   \n",
       "4      SM Megamall, Ortigas, Mandaluyong City   \n",
       "\n",
       "                                    Locality Verbose   Longitude   Latitude  \\\n",
       "0  Century City Mall, Poblacion, Makati City, Mak...  121.027535  14.565443   \n",
       "1  Little Tokyo, Legaspi Village, Makati City, Ma...  121.014101  14.553708   \n",
       "2  Edsa Shangri-La, Ortigas, Mandaluyong City, Ma...  121.056831  14.581404   \n",
       "3  SM Megamall, Ortigas, Mandaluyong City, Mandal...  121.056475  14.585318   \n",
       "4  SM Megamall, Ortigas, Mandaluyong City, Mandal...  121.057508  14.584450   \n",
       "\n",
       "                           Cuisines  ...          Currency Has Table booking  \\\n",
       "0        French, Japanese, Desserts  ...  Botswana Pula(P)               Yes   \n",
       "1                          Japanese  ...  Botswana Pula(P)               Yes   \n",
       "2  Seafood, Asian, Filipino, Indian  ...  Botswana Pula(P)               Yes   \n",
       "3                   Japanese, Sushi  ...  Botswana Pula(P)                No   \n",
       "4                  Japanese, Korean  ...  Botswana Pula(P)               Yes   \n",
       "\n",
       "  Has Online delivery Is delivering now Switch to order menu Price range  \\\n",
       "0                  No                No                   No           3   \n",
       "1                  No                No                   No           3   \n",
       "2                  No                No                   No           4   \n",
       "3                  No                No                   No           4   \n",
       "4                  No                No                   No           4   \n",
       "\n",
       "   Aggregate rating  Rating color Rating text Votes  \n",
       "0               4.8    Dark Green   Excellent   314  \n",
       "1               4.5    Dark Green   Excellent   591  \n",
       "2               4.4         Green   Very Good   270  \n",
       "3               4.9    Dark Green   Excellent   365  \n",
       "4               4.8    Dark Green   Excellent   229  \n",
       "\n",
       "[5 rows x 21 columns]"
      ]
     },
     "execution_count": 2,
     "metadata": {},
     "output_type": "execute_result"
    }
   ],
   "source": [
    "restaurants_original = pd.read_csv(\"zomato.csv\", encoding=\"ISO-8859-1\")\n",
    "restaurants_original.head()"
   ]
  },
  {
   "cell_type": "code",
   "execution_count": 3,
   "metadata": {},
   "outputs": [],
   "source": [
    "restaurants_df = restaurants_original.copy()"
   ]
  },
  {
   "cell_type": "code",
   "execution_count": 4,
   "metadata": {},
   "outputs": [
    {
     "name": "stdout",
     "output_type": "stream",
     "text": [
      "<class 'pandas.core.frame.DataFrame'>\n",
      "RangeIndex: 9551 entries, 0 to 9550\n",
      "Data columns (total 21 columns):\n",
      " #   Column                Non-Null Count  Dtype  \n",
      "---  ------                --------------  -----  \n",
      " 0   restaurant_id         9551 non-null   int64  \n",
      " 1   restaurant_name       9551 non-null   object \n",
      " 2   country_code          9551 non-null   int64  \n",
      " 3   city                  9551 non-null   object \n",
      " 4   address               9551 non-null   object \n",
      " 5   locality              9551 non-null   object \n",
      " 6   locality_verbose      9551 non-null   object \n",
      " 7   longitude             9551 non-null   float64\n",
      " 8   latitude              9551 non-null   float64\n",
      " 9   cuisines              9542 non-null   object \n",
      " 10  average_cost_for_two  9551 non-null   int64  \n",
      " 11  currency              9551 non-null   object \n",
      " 12  has_table_booking     9551 non-null   object \n",
      " 13  has_online_delivery   9551 non-null   object \n",
      " 14  is_delivering_now     9551 non-null   object \n",
      " 15  switch_to_order_menu  9551 non-null   object \n",
      " 16  price_range           9551 non-null   int64  \n",
      " 17  aggregate_rating      9551 non-null   float64\n",
      " 18  rating_color          9551 non-null   object \n",
      " 19  rating_text           9551 non-null   object \n",
      " 20  votes                 9551 non-null   int64  \n",
      "dtypes: float64(3), int64(5), object(13)\n",
      "memory usage: 1.5+ MB\n"
     ]
    }
   ],
   "source": [
    "#Remove spaces from columns and replace them with underscores for easier manipulation with the data\n",
    "restaurants_df.columns = restaurants_df.columns.str.replace(\" \",\"_\")\n",
    "restaurants_df.columns = restaurants_df.columns.str.lower()\n",
    "restaurants_df.info()"
   ]
  },
  {
   "cell_type": "code",
   "execution_count": 5,
   "metadata": {},
   "outputs": [],
   "source": [
    "# Convert restaurant_id to string for correct representation\n",
    "restaurants_df.restaurant_id = restaurants_df.restaurant_id.astype(\"str\")"
   ]
  },
  {
   "cell_type": "code",
   "execution_count": 6,
   "metadata": {},
   "outputs": [
    {
     "data": {
      "text/plain": [
       "array(['Excellent', 'Very Good', 'Good', 'Average', 'Not rated', 'Poor'],\n",
       "      dtype=object)"
      ]
     },
     "execution_count": 6,
     "metadata": {},
     "output_type": "execute_result"
    }
   ],
   "source": [
    "restaurants_df.rating_text.unique()"
   ]
  },
  {
   "cell_type": "code",
   "execution_count": 7,
   "metadata": {},
   "outputs": [],
   "source": [
    "# for now we consider not rated as a category, maybe dissmised later\n",
    "ratings = [\"Not rated\", \"Poor\", \"Average\", \"Good\",\"Very Good\",\"Excellent\"]\n",
    "ratings = pd.api.types.CategoricalDtype(ordered = True,\n",
    "                                                categories = ratings)\n",
    "restaurants_df[\"rating_text\"] = restaurants_df[\"rating_text\"].astype(ratings)"
   ]
  },
  {
   "cell_type": "code",
   "execution_count": 8,
   "metadata": {},
   "outputs": [
    {
     "data": {
      "text/plain": [
       "array([3, 4, 2, 1])"
      ]
     },
     "execution_count": 8,
     "metadata": {},
     "output_type": "execute_result"
    }
   ],
   "source": [
    "restaurants_df.price_range.unique()"
   ]
  },
  {
   "cell_type": "code",
   "execution_count": 9,
   "metadata": {},
   "outputs": [],
   "source": [
    "price_range = [1,2,3,4]\n",
    "price_range = pd.api.types.CategoricalDtype(ordered= True, categories = price_range)\n",
    "restaurants_df.price_range = restaurants_df.price_range.astype(price_range)"
   ]
  },
  {
   "cell_type": "code",
   "execution_count": 10,
   "metadata": {},
   "outputs": [
    {
     "data": {
      "text/plain": [
       "array(['No'], dtype=object)"
      ]
     },
     "execution_count": 10,
     "metadata": {},
     "output_type": "execute_result"
    }
   ],
   "source": [
    "restaurants_df.switch_to_order_menu.unique()"
   ]
  },
  {
   "cell_type": "code",
   "execution_count": 11,
   "metadata": {},
   "outputs": [],
   "source": [
    "#Drop unwanted columns\n",
    "restaurants_df = restaurants_df.drop([\"country_code\",\"address\",\"locality_verbose\",\"longitude\",\"latitude\",\"aggregate_rating\",\"rating_color\", \"switch_to_order_menu\"], axis = 1)"
   ]
  },
  {
   "cell_type": "code",
   "execution_count": 12,
   "metadata": {},
   "outputs": [
    {
     "name": "stdout",
     "output_type": "stream",
     "text": [
      "<class 'pandas.core.frame.DataFrame'>\n",
      "RangeIndex: 9551 entries, 0 to 9550\n",
      "Data columns (total 13 columns):\n",
      " #   Column                Non-Null Count  Dtype   \n",
      "---  ------                --------------  -----   \n",
      " 0   restaurant_id         9551 non-null   object  \n",
      " 1   restaurant_name       9551 non-null   object  \n",
      " 2   city                  9551 non-null   object  \n",
      " 3   locality              9551 non-null   object  \n",
      " 4   cuisines              9542 non-null   object  \n",
      " 5   average_cost_for_two  9551 non-null   int64   \n",
      " 6   currency              9551 non-null   object  \n",
      " 7   has_table_booking     9551 non-null   object  \n",
      " 8   has_online_delivery   9551 non-null   object  \n",
      " 9   is_delivering_now     9551 non-null   object  \n",
      " 10  price_range           9551 non-null   category\n",
      " 11  rating                9551 non-null   category\n",
      " 12  votes                 9551 non-null   int64   \n",
      "dtypes: category(2), int64(2), object(9)\n",
      "memory usage: 840.0+ KB\n"
     ]
    }
   ],
   "source": [
    "restaurants_df.rename(columns = {\"rating_text\":\"rating\"}, inplace= True)\n",
    "restaurants_df.info()"
   ]
  },
  {
   "cell_type": "markdown",
   "metadata": {},
   "source": [
    "### What is the structure of your dataset?\n",
    "\n",
    "> Originaly this dataset contained 9551 rows with 20 features, I removed some features that will definitely not be used in this analysis these features are `country_code`, `address`, `locality_verbose`, `longitude`, `latitude`, and some redundant features `aggregate_rating`, `rating_color` and one feature which contained only one value `switch_to_order_menu`\n",
    "\n",
    "> Now the dataset has 13 features, most of the variables are strings, `votes` & `average_cost_for_two` are numeric, and `price_range` & `rating` are ordered variables.\n",
    "\n",
    "\n",
    "### What is/are the main feature(s) of interest in your dataset?\n",
    "\n",
    "> I'm mainly interested two variables `cuisine` & `ratings` and how all other restaurant characterstics relate to them.\n",
    "### What features in the dataset do you think will help support your investigation into your feature(s) of interest?\n",
    "\n",
    "> All the features that were not dropped after the wrangling process are important and will help in my investigation, price ranges and average cost for two are very important ones to explore, also restaurants in some cities may tend to have certain ratings, the only feature that is not related to how the restaurant is rated is the number of votes, it shows how the ratings are credible though and may be a pointer to how the restaurant is popular\n",
    "\n",
    "> For cuisines I'm interested to look at how different cities are related to certain cuisines, also the ratings for these cuisines are important maybe also per city, as some cuisines may be good in one place but not in other, and if there is a relation between cuisines and prices."
   ]
  },
  {
   "cell_type": "markdown",
   "metadata": {},
   "source": [
    "## Univariate Exploration"
   ]
  },
  {
   "cell_type": "code",
   "execution_count": 13,
   "metadata": {},
   "outputs": [
    {
     "name": "stdout",
     "output_type": "stream",
     "text": [
      "<class 'pandas.core.frame.DataFrame'>\n",
      "RangeIndex: 9551 entries, 0 to 9550\n",
      "Data columns (total 13 columns):\n",
      " #   Column                Non-Null Count  Dtype   \n",
      "---  ------                --------------  -----   \n",
      " 0   restaurant_id         9551 non-null   object  \n",
      " 1   restaurant_name       9551 non-null   object  \n",
      " 2   city                  9551 non-null   object  \n",
      " 3   locality              9551 non-null   object  \n",
      " 4   cuisines              9542 non-null   object  \n",
      " 5   average_cost_for_two  9551 non-null   int64   \n",
      " 6   currency              9551 non-null   object  \n",
      " 7   has_table_booking     9551 non-null   object  \n",
      " 8   has_online_delivery   9551 non-null   object  \n",
      " 9   is_delivering_now     9551 non-null   object  \n",
      " 10  price_range           9551 non-null   category\n",
      " 11  rating                9551 non-null   category\n",
      " 12  votes                 9551 non-null   int64   \n",
      "dtypes: category(2), int64(2), object(9)\n",
      "memory usage: 840.0+ KB\n"
     ]
    }
   ],
   "source": [
    "restaurants_df.info()"
   ]
  },
  {
   "cell_type": "code",
   "execution_count": 14,
   "metadata": {},
   "outputs": [
    {
     "data": {
      "text/html": [
       "<div>\n",
       "<style scoped>\n",
       "    .dataframe tbody tr th:only-of-type {\n",
       "        vertical-align: middle;\n",
       "    }\n",
       "\n",
       "    .dataframe tbody tr th {\n",
       "        vertical-align: top;\n",
       "    }\n",
       "\n",
       "    .dataframe thead th {\n",
       "        text-align: right;\n",
       "    }\n",
       "</style>\n",
       "<table border=\"1\" class=\"dataframe\">\n",
       "  <thead>\n",
       "    <tr style=\"text-align: right;\">\n",
       "      <th></th>\n",
       "      <th>average_cost_for_two</th>\n",
       "      <th>votes</th>\n",
       "    </tr>\n",
       "  </thead>\n",
       "  <tbody>\n",
       "    <tr>\n",
       "      <th>count</th>\n",
       "      <td>9551.000000</td>\n",
       "      <td>9551.000000</td>\n",
       "    </tr>\n",
       "    <tr>\n",
       "      <th>mean</th>\n",
       "      <td>1199.210763</td>\n",
       "      <td>156.909748</td>\n",
       "    </tr>\n",
       "    <tr>\n",
       "      <th>std</th>\n",
       "      <td>16121.183073</td>\n",
       "      <td>430.169145</td>\n",
       "    </tr>\n",
       "    <tr>\n",
       "      <th>min</th>\n",
       "      <td>0.000000</td>\n",
       "      <td>0.000000</td>\n",
       "    </tr>\n",
       "    <tr>\n",
       "      <th>25%</th>\n",
       "      <td>250.000000</td>\n",
       "      <td>5.000000</td>\n",
       "    </tr>\n",
       "    <tr>\n",
       "      <th>50%</th>\n",
       "      <td>400.000000</td>\n",
       "      <td>31.000000</td>\n",
       "    </tr>\n",
       "    <tr>\n",
       "      <th>75%</th>\n",
       "      <td>700.000000</td>\n",
       "      <td>131.000000</td>\n",
       "    </tr>\n",
       "    <tr>\n",
       "      <th>max</th>\n",
       "      <td>800000.000000</td>\n",
       "      <td>10934.000000</td>\n",
       "    </tr>\n",
       "  </tbody>\n",
       "</table>\n",
       "</div>"
      ],
      "text/plain": [
       "       average_cost_for_two         votes\n",
       "count           9551.000000   9551.000000\n",
       "mean            1199.210763    156.909748\n",
       "std            16121.183073    430.169145\n",
       "min                0.000000      0.000000\n",
       "25%              250.000000      5.000000\n",
       "50%              400.000000     31.000000\n",
       "75%              700.000000    131.000000\n",
       "max           800000.000000  10934.000000"
      ]
     },
     "execution_count": 14,
     "metadata": {},
     "output_type": "execute_result"
    }
   ],
   "source": [
    "restaurants_df.describe()"
   ]
  },
  {
   "cell_type": "markdown",
   "metadata": {},
   "source": [
    "> Our two numeric variables appear to have high skewness"
   ]
  },
  {
   "cell_type": "code",
   "execution_count": 15,
   "metadata": {},
   "outputs": [
    {
     "data": {
      "text/plain": [
       "<matplotlib.axes._subplots.AxesSubplot at 0x117a55cd0>"
      ]
     },
     "execution_count": 15,
     "metadata": {},
     "output_type": "execute_result"
    },
    {
     "data": {
      "image/png": "[encoded data removed]",
      "text/plain": [
       "<Figure size 432x288 with 1 Axes>"
      ]
     },
     "metadata": {
      "needs_background": "light"
     },
     "output_type": "display_data"
    }
   ],
   "source": [
    "base_color = sb.color_palette()[0]\n",
    "sb.countplot(data = restaurants_df, x = \"rating\", color = base_color)"
   ]
  },
  {
   "cell_type": "markdown",
   "metadata": {},
   "source": [
    "> We can see that poor and excellent are the lowest values, with average the highest, also we can separate `Not rated` and maintain our analysis between `Poor` and `Excellent` gradings and maybe let `Not rated` restaurants for another analysis."
   ]
  },
  {
   "cell_type": "code",
   "execution_count": 16,
   "metadata": {},
   "outputs": [
    {
     "data": {
      "image/png": "[encoded data removed]",
      "text/plain": [
       "<Figure size 432x288 with 1 Axes>"
      ]
     },
     "metadata": {
      "needs_background": "light"
     },
     "output_type": "display_data"
    }
   ],
   "source": [
    "base_color = sb.color_palette()[0]\n",
    "sb.countplot(data = restaurants_df, x = \"price_range\", color = base_color);\n"
   ]
  },
  {
   "cell_type": "markdown",
   "metadata": {},
   "source": [
    "> Most restaurant prices fall under lowest price category"
   ]
  },
  {
   "cell_type": "code",
   "execution_count": 17,
   "metadata": {},
   "outputs": [
    {
     "data": {
      "image/png": "[encoded data removed]",
      "text/plain": [
       "<Figure size 432x288 with 1 Axes>"
      ]
     },
     "metadata": {
      "needs_background": "light"
     },
     "output_type": "display_data"
    }
   ],
   "source": [
    "plt.hist(data=restaurants_df, x = \"average_cost_for_two\");"
   ]
  },
  {
   "cell_type": "markdown",
   "metadata": {},
   "source": [
    "> Average cost for two is very right skewed, suggesting the presence of outliers, this will need further investigation"
   ]
  },
  {
   "cell_type": "code",
   "execution_count": 18,
   "metadata": {},
   "outputs": [
    {
     "data": {
      "text/plain": [
       "(0.0, 10000.0)"
      ]
     },
     "execution_count": 18,
     "metadata": {},
     "output_type": "execute_result"
    },
    {
     "data": {
      "image/png": "[encoded data removed]",
      "text/plain": [
       "<Figure size 432x288 with 1 Axes>"
      ]
     },
     "metadata": {
      "needs_background": "light"
     },
     "output_type": "display_data"
    }
   ],
   "source": [
    "# Limit our ticks between between 0 & 10000\n",
    "bins = np.arange(0, 10000, 100)\n",
    "plt.hist(data=restaurants_df, x = \"average_cost_for_two\", bins = bins)\n",
    "plt.xlim(0,10000)"
   ]
  },
  {
   "cell_type": "markdown",
   "metadata": {},
   "source": [
    "> still data is right skewed with most of the values between 0 and 2000"
   ]
  },
  {
   "cell_type": "code",
   "execution_count": 19,
   "metadata": {},
   "outputs": [
    {
     "data": {
      "text/plain": [
       "(0.0, 2000.0)"
      ]
     },
     "execution_count": 19,
     "metadata": {},
     "output_type": "execute_result"
    },
    {
     "data": {
      "image/png": "[encoded data removed]",
      "text/plain": [
       "<Figure size 432x288 with 1 Axes>"
      ]
     },
     "metadata": {
      "needs_background": "light"
     },
     "output_type": "display_data"
    }
   ],
   "source": [
    "# Limit our ticks between 0 & 2000\n",
    "bins = np.arange(0, 2000 + 100, 100)\n",
    "plt.hist(data=restaurants_df, x = \"average_cost_for_two\", bins = bins)\n",
    "plt.xlim(0,2000)"
   ]
  },
  {
   "cell_type": "markdown",
   "metadata": {},
   "source": [
    "> Most of the data is ditributed between 250 and about 600 with one peak around 400"
   ]
  },
  {
   "cell_type": "code",
   "execution_count": 20,
   "metadata": {},
   "outputs": [
    {
     "data": {
      "image/png": "[encoded data removed]",
      "text/plain": [
       "<Figure size 432x288 with 1 Axes>"
      ]
     },
     "metadata": {
      "needs_background": "light"
     },
     "output_type": "display_data"
    }
   ],
   "source": [
    "bins  = 10** np.arange(0,np.log10(restaurants_df.average_cost_for_two.max())+ .2 ,.2)\n",
    "plt.hist(data=restaurants_df, x = \"average_cost_for_two\", bins = bins);\n",
    "plt.xscale(\"log\")\n",
    "plt.xticks([10, 100, 1e3, 1e4,1e5,1e6], ['10', '100', '1k', '10k', '100k', '1000k'], rotation = 15);"
   ]
  },
  {
   "cell_type": "markdown",
   "metadata": {},
   "source": [
    "> Under log scale data is normally distributed with one peak around 400-500, there is a shift to the right as mentioned previously suggesting outliers that need more investigation"
   ]
  },
  {
   "cell_type": "code",
   "execution_count": 21,
   "metadata": {},
   "outputs": [
    {
     "data": {
      "text/plain": [
       "count      9551.000000\n",
       "mean       1199.210763\n",
       "std       16121.183073\n",
       "min           0.000000\n",
       "25%         250.000000\n",
       "50%         400.000000\n",
       "75%         700.000000\n",
       "max      800000.000000\n",
       "Name: average_cost_for_two, dtype: float64"
      ]
     },
     "execution_count": 21,
     "metadata": {},
     "output_type": "execute_result"
    }
   ],
   "source": [
    "restaurants_df.average_cost_for_two.describe()"
   ]
  },
  {
   "cell_type": "code",
   "execution_count": 22,
   "metadata": {},
   "outputs": [
    {
     "data": {
      "text/html": [
       "<div>\n",
       "<style scoped>\n",
       "    .dataframe tbody tr th:only-of-type {\n",
       "        vertical-align: middle;\n",
       "    }\n",
       "\n",
       "    .dataframe tbody tr th {\n",
       "        vertical-align: top;\n",
       "    }\n",
       "\n",
       "    .dataframe thead th {\n",
       "        text-align: right;\n",
       "    }\n",
       "</style>\n",
       "<table border=\"1\" class=\"dataframe\">\n",
       "  <thead>\n",
       "    <tr style=\"text-align: right;\">\n",
       "      <th></th>\n",
       "      <th>restaurant_id</th>\n",
       "      <th>restaurant_name</th>\n",
       "      <th>city</th>\n",
       "      <th>locality</th>\n",
       "      <th>cuisines</th>\n",
       "      <th>average_cost_for_two</th>\n",
       "      <th>currency</th>\n",
       "      <th>has_table_booking</th>\n",
       "      <th>has_online_delivery</th>\n",
       "      <th>is_delivering_now</th>\n",
       "      <th>price_range</th>\n",
       "      <th>rating</th>\n",
       "      <th>votes</th>\n",
       "    </tr>\n",
       "  </thead>\n",
       "  <tbody>\n",
       "    <tr>\n",
       "      <th>9276</th>\n",
       "      <td>18400530</td>\n",
       "      <td>Noah's Barn Coffeenery</td>\n",
       "      <td>Bandung</td>\n",
       "      <td>Dago</td>\n",
       "      <td>Cafe, Coffee and Tea, Western</td>\n",
       "      <td>150000</td>\n",
       "      <td>Indonesian Rupiah(IDR)</td>\n",
       "      <td>No</td>\n",
       "      <td>No</td>\n",
       "      <td>No</td>\n",
       "      <td>3</td>\n",
       "      <td>Very Good</td>\n",
       "      <td>22</td>\n",
       "    </tr>\n",
       "    <tr>\n",
       "      <th>9277</th>\n",
       "      <td>7423620</td>\n",
       "      <td>Momo Milk</td>\n",
       "      <td>Bogor</td>\n",
       "      <td>Bogor Timur</td>\n",
       "      <td>Cafe, Desserts, Beverages</td>\n",
       "      <td>70000</td>\n",
       "      <td>Indonesian Rupiah(IDR)</td>\n",
       "      <td>No</td>\n",
       "      <td>No</td>\n",
       "      <td>No</td>\n",
       "      <td>2</td>\n",
       "      <td>Good</td>\n",
       "      <td>783</td>\n",
       "    </tr>\n",
       "    <tr>\n",
       "      <th>9278</th>\n",
       "      <td>7423482</td>\n",
       "      <td>Lemongrass</td>\n",
       "      <td>Bogor</td>\n",
       "      <td>Bogor Utara</td>\n",
       "      <td>Peranakan, Indonesian</td>\n",
       "      <td>250000</td>\n",
       "      <td>Indonesian Rupiah(IDR)</td>\n",
       "      <td>No</td>\n",
       "      <td>No</td>\n",
       "      <td>No</td>\n",
       "      <td>3</td>\n",
       "      <td>Very Good</td>\n",
       "      <td>1159</td>\n",
       "    </tr>\n",
       "    <tr>\n",
       "      <th>9279</th>\n",
       "      <td>7422633</td>\n",
       "      <td>Talaga Sampireun</td>\n",
       "      <td>Jakarta</td>\n",
       "      <td>Cengkareng</td>\n",
       "      <td>Sunda, Indonesian</td>\n",
       "      <td>200000</td>\n",
       "      <td>Indonesian Rupiah(IDR)</td>\n",
       "      <td>No</td>\n",
       "      <td>No</td>\n",
       "      <td>No</td>\n",
       "      <td>3</td>\n",
       "      <td>Excellent</td>\n",
       "      <td>1662</td>\n",
       "    </tr>\n",
       "    <tr>\n",
       "      <th>9280</th>\n",
       "      <td>7405789</td>\n",
       "      <td>Toodz House</td>\n",
       "      <td>Jakarta</td>\n",
       "      <td>Fatmawati</td>\n",
       "      <td>Cafe, Italian, Coffee and Tea, Western, Indone...</td>\n",
       "      <td>165000</td>\n",
       "      <td>Indonesian Rupiah(IDR)</td>\n",
       "      <td>No</td>\n",
       "      <td>No</td>\n",
       "      <td>No</td>\n",
       "      <td>3</td>\n",
       "      <td>Excellent</td>\n",
       "      <td>1476</td>\n",
       "    </tr>\n",
       "  </tbody>\n",
       "</table>\n",
       "</div>"
      ],
      "text/plain": [
       "     restaurant_id         restaurant_name     city     locality  \\\n",
       "9276      18400530  Noah's Barn Coffeenery  Bandung         Dago   \n",
       "9277       7423620               Momo Milk    Bogor  Bogor Timur   \n",
       "9278       7423482              Lemongrass    Bogor  Bogor Utara   \n",
       "9279       7422633        Talaga Sampireun  Jakarta   Cengkareng   \n",
       "9280       7405789             Toodz House  Jakarta    Fatmawati   \n",
       "\n",
       "                                               cuisines  average_cost_for_two  \\\n",
       "9276                      Cafe, Coffee and Tea, Western                150000   \n",
       "9277                          Cafe, Desserts, Beverages                 70000   \n",
       "9278                              Peranakan, Indonesian                250000   \n",
       "9279                                  Sunda, Indonesian                200000   \n",
       "9280  Cafe, Italian, Coffee and Tea, Western, Indone...                165000   \n",
       "\n",
       "                    currency has_table_booking has_online_delivery  \\\n",
       "9276  Indonesian Rupiah(IDR)                No                  No   \n",
       "9277  Indonesian Rupiah(IDR)                No                  No   \n",
       "9278  Indonesian Rupiah(IDR)                No                  No   \n",
       "9279  Indonesian Rupiah(IDR)                No                  No   \n",
       "9280  Indonesian Rupiah(IDR)                No                  No   \n",
       "\n",
       "     is_delivering_now price_range     rating  votes  \n",
       "9276                No           3  Very Good     22  \n",
       "9277                No           2       Good    783  \n",
       "9278                No           3  Very Good   1159  \n",
       "9279                No           3  Excellent   1662  \n",
       "9280                No           3  Excellent   1476  "
      ]
     },
     "execution_count": 22,
     "metadata": {},
     "output_type": "execute_result"
    }
   ],
   "source": [
    "restaurants_df.loc[restaurants_df.average_cost_for_two > 10000,:].head()"
   ]
  },
  {
   "cell_type": "code",
   "execution_count": 23,
   "metadata": {},
   "outputs": [
    {
     "name": "stderr",
     "output_type": "stream",
     "text": [
      "/Users/apple/opt/anaconda3/envs/udacity/lib/python3.8/site-packages/matplotlib/backends/backend_agg.py:214: RuntimeWarning: Glyph 140 missing from current font.\n",
      "  font.set_text(s, 0.0, flags=flags)\n",
      "/Users/apple/opt/anaconda3/envs/udacity/lib/python3.8/site-packages/matplotlib/backends/backend_agg.py:183: RuntimeWarning: Glyph 140 missing from current font.\n",
      "  font.set_text(s, 0, flags=flags)\n"
     ]
    },
    {
     "data": {
      "image/png": "[encoded data removed]",
      "text/plain": [
       "<Figure size 360x360 with 1 Axes>"
      ]
     },
     "metadata": {
      "needs_background": "light"
     },
     "output_type": "display_data"
    }
   ],
   "source": [
    "currency_order = restaurants_df.currency.value_counts().index[:10]\n",
    "plt.figure(figsize = (5,5))\n",
    "sb.countplot(data = restaurants_df, y = \"currency\", order = currency_order, color = base_color);"
   ]
  },
  {
   "cell_type": "markdown",
   "metadata": {},
   "source": [
    "> The distribution of `average_cost_for_two` was very highly skewed due to the different currencies in our dataset, this multiple currencies maybe due to multiple countries in our dataset. If they represent the same country though , we have to convert all our currencies to one currency like Rupees or US dollars for example, or explore our `average_cost_for_two` for different currencies in the bivariat exploration.\n",
    "\n",
    "> From the above graph of currencies we see that most of our data are in Indian Rupees, this also suggests we can drop all other currencies and only focus on Rupees\n"
   ]
  },
  {
   "cell_type": "code",
   "execution_count": 24,
   "metadata": {},
   "outputs": [
    {
     "data": {
      "text/plain": [
       "Manchester        20\n",
       "Brasí_lia         20\n",
       "Dubuque           20\n",
       "Sioux City        20\n",
       "Singapore         20\n",
       "Gainesville       20\n",
       "Orlando           20\n",
       "Rest of Hawaii    20\n",
       "Abu Dhabi         20\n",
       "Doha              20\n",
       "Name: city, dtype: int64"
      ]
     },
     "execution_count": 24,
     "metadata": {},
     "output_type": "execute_result"
    }
   ],
   "source": [
    "#Exploring cities first\n",
    "restaurants_df[restaurants_df.currency != \"Indian Rupees(Rs.)\"].city.value_counts()[:10]"
   ]
  },
  {
   "cell_type": "code",
   "execution_count": 25,
   "metadata": {},
   "outputs": [
    {
     "data": {
      "text/plain": [
       "New Delhi    5473\n",
       "Gurgaon      1118\n",
       "Noida        1080\n",
       "Faridabad     251\n",
       "Ghaziabad      25\n",
       "Name: city, dtype: int64"
      ]
     },
     "execution_count": 25,
     "metadata": {},
     "output_type": "execute_result"
    }
   ],
   "source": [
    "restaurants_df[restaurants_df.currency == \"Indian Rupees(Rs.)\"].city.value_counts()[:5]"
   ]
  },
  {
   "cell_type": "markdown",
   "metadata": {},
   "source": [
    "> After looking at the `city` & `currency` variables it's apparent why `average_cost_for_two` was very right skewed, this is due to different countries in our dataset having different currencies, for this analysis we will explore the indian market as it has the most data (Indian rupees)"
   ]
  },
  {
   "cell_type": "code",
   "execution_count": 26,
   "metadata": {},
   "outputs": [],
   "source": [
    "restaurants_df = restaurants_df[restaurants_df.currency == \"Indian Rupees(Rs.)\"] # drop all other currencies"
   ]
  },
  {
   "cell_type": "markdown",
   "metadata": {},
   "source": [
    "## Reiterating our analysis "
   ]
  },
  {
   "cell_type": "code",
   "execution_count": 27,
   "metadata": {},
   "outputs": [
    {
     "data": {
      "text/plain": [
       "<matplotlib.axes._subplots.AxesSubplot at 0x11865f190>"
      ]
     },
     "execution_count": 27,
     "metadata": {},
     "output_type": "execute_result"
    },
    {
     "data": {
      "image/png": "[encoded data removed]",
      "text/plain": [
       "<Figure size 432x288 with 1 Axes>"
      ]
     },
     "metadata": {
      "needs_background": "light"
     },
     "output_type": "display_data"
    }
   ],
   "source": [
    "base_color = sb.color_palette()[0]\n",
    "sb.countplot(data = restaurants_df, x = \"rating\", color = base_color)"
   ]
  },
  {
   "cell_type": "code",
   "execution_count": 28,
   "metadata": {},
   "outputs": [
    {
     "data": {
      "image/png": "[encoded data removed]",
      "text/plain": [
       "<Figure size 432x288 with 1 Axes>"
      ]
     },
     "metadata": {
      "needs_background": "light"
     },
     "output_type": "display_data"
    }
   ],
   "source": [
    "base_color = sb.color_palette()[0]\n",
    "sb.countplot(data = restaurants_df, x = \"price_range\", color = base_color);\n"
   ]
  },
  {
   "cell_type": "code",
   "execution_count": 29,
   "metadata": {},
   "outputs": [
    {
     "data": {
      "image/png": "[encoded data removed]",
      "text/plain": [
       "<Figure size 432x288 with 1 Axes>"
      ]
     },
     "metadata": {
      "needs_background": "light"
     },
     "output_type": "display_data"
    }
   ],
   "source": [
    "plt.hist(data=restaurants_df, x = \"average_cost_for_two\");"
   ]
  },
  {
   "cell_type": "markdown",
   "metadata": {},
   "source": [
    "> same skew but much less now as we factored out other currencies with very high values"
   ]
  },
  {
   "cell_type": "code",
   "execution_count": 30,
   "metadata": {},
   "outputs": [
    {
     "data": {
      "image/png": "[encoded data removed]",
      "text/plain": [
       "<Figure size 432x288 with 1 Axes>"
      ]
     },
     "metadata": {
      "needs_background": "light"
     },
     "output_type": "display_data"
    }
   ],
   "source": [
    "bins  = 10** np.arange(0,np.log10(restaurants_df.average_cost_for_two.max())+ .2 ,.2)\n",
    "plt.hist(data=restaurants_df, x = \"average_cost_for_two\", bins = bins);\n",
    "plt.xscale(\"log\")\n",
    "plt.xticks([10, 100, 1e3, 1e4,1e5,1e6], ['10', '100', '1k', '10k', '100k', '1000k'], rotation = 15);"
   ]
  },
  {
   "cell_type": "markdown",
   "metadata": {},
   "source": [
    "> Under log scale data is normally distributed with one peak around 500, most of the data is between 100 & 1K rupees"
   ]
  },
  {
   "cell_type": "code",
   "execution_count": 31,
   "metadata": {},
   "outputs": [
    {
     "data": {
      "text/plain": [
       "count    8652.000000\n",
       "mean      623.370319\n",
       "std       595.676124\n",
       "min         0.000000\n",
       "25%       300.000000\n",
       "50%       450.000000\n",
       "75%       700.000000\n",
       "max      8000.000000\n",
       "Name: average_cost_for_two, dtype: float64"
      ]
     },
     "execution_count": 31,
     "metadata": {},
     "output_type": "execute_result"
    }
   ],
   "source": [
    "restaurants_df.average_cost_for_two.describe()"
   ]
  },
  {
   "cell_type": "code",
   "execution_count": 32,
   "metadata": {},
   "outputs": [
    {
     "data": {
      "text/plain": [
       "<matplotlib.axes._subplots.AxesSubplot at 0x1181ddf70>"
      ]
     },
     "execution_count": 32,
     "metadata": {},
     "output_type": "execute_result"
    },
    {
     "data": {
      "image/png": "[encoded data removed]",
      "text/plain": [
       "<Figure size 360x720 with 1 Axes>"
      ]
     },
     "metadata": {
      "needs_background": "light"
     },
     "output_type": "display_data"
    }
   ],
   "source": [
    "plt.figure(figsize = (5,10))\n",
    "sb.boxplot(data = restaurants_df, y = 'average_cost_for_two', color = base_color)"
   ]
  },
  {
   "cell_type": "code",
   "execution_count": 33,
   "metadata": {},
   "outputs": [
    {
     "name": "stdout",
     "output_type": "stream",
     "text": [
      "(540, 13)\n"
     ]
    },
    {
     "data": {
      "text/html": [
       "<div>\n",
       "<style scoped>\n",
       "    .dataframe tbody tr th:only-of-type {\n",
       "        vertical-align: middle;\n",
       "    }\n",
       "\n",
       "    .dataframe tbody tr th {\n",
       "        vertical-align: top;\n",
       "    }\n",
       "\n",
       "    .dataframe thead th {\n",
       "        text-align: right;\n",
       "    }\n",
       "</style>\n",
       "<table border=\"1\" class=\"dataframe\">\n",
       "  <thead>\n",
       "    <tr style=\"text-align: right;\">\n",
       "      <th></th>\n",
       "      <th>restaurant_id</th>\n",
       "      <th>restaurant_name</th>\n",
       "      <th>city</th>\n",
       "      <th>locality</th>\n",
       "      <th>cuisines</th>\n",
       "      <th>average_cost_for_two</th>\n",
       "      <th>currency</th>\n",
       "      <th>has_table_booking</th>\n",
       "      <th>has_online_delivery</th>\n",
       "      <th>is_delivering_now</th>\n",
       "      <th>price_range</th>\n",
       "      <th>rating</th>\n",
       "      <th>votes</th>\n",
       "    </tr>\n",
       "  </thead>\n",
       "  <tbody>\n",
       "    <tr>\n",
       "      <th>7543</th>\n",
       "      <td>2701</td>\n",
       "      <td>Orient Express - Taj Palace Hotel</td>\n",
       "      <td>New Delhi</td>\n",
       "      <td>The Taj Palace Hotel, Chanakyapuri</td>\n",
       "      <td>European</td>\n",
       "      <td>8000</td>\n",
       "      <td>Indian Rupees(Rs.)</td>\n",
       "      <td>Yes</td>\n",
       "      <td>No</td>\n",
       "      <td>No</td>\n",
       "      <td>4</td>\n",
       "      <td>Very Good</td>\n",
       "      <td>145</td>\n",
       "    </tr>\n",
       "    <tr>\n",
       "      <th>4088</th>\n",
       "      <td>309548</td>\n",
       "      <td>Tian - Asian Cuisine Studio - ITC Maurya</td>\n",
       "      <td>New Delhi</td>\n",
       "      <td>ITC Maurya, Chanakyapuri</td>\n",
       "      <td>Asian, Japanese, Korean, Thai, Chinese</td>\n",
       "      <td>7000</td>\n",
       "      <td>Indian Rupees(Rs.)</td>\n",
       "      <td>No</td>\n",
       "      <td>No</td>\n",
       "      <td>No</td>\n",
       "      <td>4</td>\n",
       "      <td>Very Good</td>\n",
       "      <td>188</td>\n",
       "    </tr>\n",
       "    <tr>\n",
       "      <th>4087</th>\n",
       "      <td>2742</td>\n",
       "      <td>Bukhara - ITC Maurya</td>\n",
       "      <td>New Delhi</td>\n",
       "      <td>ITC Maurya, Chanakyapuri</td>\n",
       "      <td>North Indian</td>\n",
       "      <td>6500</td>\n",
       "      <td>Indian Rupees(Rs.)</td>\n",
       "      <td>No</td>\n",
       "      <td>No</td>\n",
       "      <td>No</td>\n",
       "      <td>4</td>\n",
       "      <td>Very Good</td>\n",
       "      <td>2826</td>\n",
       "    </tr>\n",
       "    <tr>\n",
       "      <th>7538</th>\n",
       "      <td>2694</td>\n",
       "      <td>Wasabi by Morimoto - The Taj Mahal Hotel</td>\n",
       "      <td>New Delhi</td>\n",
       "      <td>The Taj Mahal Hotel, Mansingh Road</td>\n",
       "      <td>Japanese, Sushi</td>\n",
       "      <td>6000</td>\n",
       "      <td>Indian Rupees(Rs.)</td>\n",
       "      <td>Yes</td>\n",
       "      <td>No</td>\n",
       "      <td>No</td>\n",
       "      <td>4</td>\n",
       "      <td>Good</td>\n",
       "      <td>183</td>\n",
       "    </tr>\n",
       "    <tr>\n",
       "      <th>7494</th>\n",
       "      <td>2724</td>\n",
       "      <td>1911 - The Imperial</td>\n",
       "      <td>New Delhi</td>\n",
       "      <td>The Imperial, Janpath</td>\n",
       "      <td>North Indian, Chinese, South Indian, Italian</td>\n",
       "      <td>6000</td>\n",
       "      <td>Indian Rupees(Rs.)</td>\n",
       "      <td>Yes</td>\n",
       "      <td>No</td>\n",
       "      <td>No</td>\n",
       "      <td>4</td>\n",
       "      <td>Good</td>\n",
       "      <td>272</td>\n",
       "    </tr>\n",
       "  </tbody>\n",
       "</table>\n",
       "</div>"
      ],
      "text/plain": [
       "     restaurant_id                           restaurant_name       city  \\\n",
       "7543          2701         Orient Express - Taj Palace Hotel  New Delhi   \n",
       "4088        309548  Tian - Asian Cuisine Studio - ITC Maurya  New Delhi   \n",
       "4087          2742                      Bukhara - ITC Maurya  New Delhi   \n",
       "7538          2694  Wasabi by Morimoto - The Taj Mahal Hotel  New Delhi   \n",
       "7494          2724                       1911 - The Imperial  New Delhi   \n",
       "\n",
       "                                locality  \\\n",
       "7543  The Taj Palace Hotel, Chanakyapuri   \n",
       "4088            ITC Maurya, Chanakyapuri   \n",
       "4087            ITC Maurya, Chanakyapuri   \n",
       "7538  The Taj Mahal Hotel, Mansingh Road   \n",
       "7494               The Imperial, Janpath   \n",
       "\n",
       "                                          cuisines  average_cost_for_two  \\\n",
       "7543                                      European                  8000   \n",
       "4088        Asian, Japanese, Korean, Thai, Chinese                  7000   \n",
       "4087                                  North Indian                  6500   \n",
       "7538                               Japanese, Sushi                  6000   \n",
       "7494  North Indian, Chinese, South Indian, Italian                  6000   \n",
       "\n",
       "                currency has_table_booking has_online_delivery  \\\n",
       "7543  Indian Rupees(Rs.)               Yes                  No   \n",
       "4088  Indian Rupees(Rs.)                No                  No   \n",
       "4087  Indian Rupees(Rs.)                No                  No   \n",
       "7538  Indian Rupees(Rs.)               Yes                  No   \n",
       "7494  Indian Rupees(Rs.)               Yes                  No   \n",
       "\n",
       "     is_delivering_now price_range     rating  votes  \n",
       "7543                No           4  Very Good    145  \n",
       "4088                No           4  Very Good    188  \n",
       "4087                No           4  Very Good   2826  \n",
       "7538                No           4       Good    183  \n",
       "7494                No           4       Good    272  "
      ]
     },
     "execution_count": 33,
     "metadata": {},
     "output_type": "execute_result"
    }
   ],
   "source": [
    "print(restaurants_df.loc[restaurants_df.average_cost_for_two > 1500  ,:].sort_values(\"average_cost_for_two\").shape)\n",
    "restaurants_df.loc[restaurants_df.average_cost_for_two > 1500  ,:].sort_values(\"average_cost_for_two\",ascending = False).head()"
   ]
  },
  {
   "cell_type": "markdown",
   "metadata": {},
   "source": [
    "> There are 540 restaurants that are supposed to be outliers in terms of their average cost for two, after looking at the data it seems fine as many restaurants tend to be in the overpriced category compared to the normal average prices, so they will not be dropped"
   ]
  },
  {
   "cell_type": "code",
   "execution_count": 34,
   "metadata": {},
   "outputs": [
    {
     "data": {
      "image/png": "[encoded data removed]",
      "text/plain": [
       "<Figure size 432x288 with 1 Axes>"
      ]
     },
     "metadata": {
      "needs_background": "light"
     },
     "output_type": "display_data"
    }
   ],
   "source": [
    "plt.hist(data = restaurants_df, x = \"votes\");"
   ]
  },
  {
   "cell_type": "markdown",
   "metadata": {},
   "source": [
    "> Same thing with votes data is highly skewed to the right"
   ]
  },
  {
   "cell_type": "code",
   "execution_count": 35,
   "metadata": {},
   "outputs": [
    {
     "data": {
      "image/png": "[encoded data removed]",
      "text/plain": [
       "<Figure size 432x288 with 1 Axes>"
      ]
     },
     "metadata": {
      "needs_background": "light"
     },
     "output_type": "display_data"
    }
   ],
   "source": [
    "bins  = 10** np.arange(0,np.log10(restaurants_df.votes.max())+ .1 ,.1)\n",
    "plt.hist(data = restaurants_df, x = \"votes\",bins = bins )\n",
    "plt.xscale(\"log\")\n",
    "plt.xticks([1, 10, 100, 1e3,1e4], ['1', '10', '100', '1k', '10k']);"
   ]
  },
  {
   "cell_type": "markdown",
   "metadata": {},
   "source": [
    "> Under log scale votes have many peaks, many restaurants have only one vote this may need to be cleaned as they may lead to wrong ratings insights\n",
    "also many restaurants have peaks around 5 - 7  votes, 10 votes then the data takes a shape of a somehow multi-modal distribution with significant modes one between 10 and 50  the other is at 100.\n",
    "\n",
    ">This also adds to interesting question, we need to have a threshold for restaurants with low number of votes to \n",
    "cast out of the analysis, but how much is low? i think it's a more business decision for the company while doing the analysis, for this analysis we'll keep all votes, but it's worth noting"
   ]
  },
  {
   "cell_type": "code",
   "execution_count": 36,
   "metadata": {},
   "outputs": [],
   "source": [
    "# separating cuisines to another dataframe as we will explode each row to multiple ones having only one cuisine\n",
    "# for each row so one restaurant row will be copied to multiple rows to cover multiple cuisines.\n",
    "cuisines_df = restaurants_df.copy()\n",
    "cuisines = cuisines_df.cuisines.str.split(\",\").apply(pd.Series).stack()\n",
    "#Leaving only original row index for each cuisine, so that it can be re-added\n",
    "cuisines.index = cuisines.index.droplevel(-1) \n",
    "cuisines.name = \"cuisine\""
   ]
  },
  {
   "cell_type": "code",
   "execution_count": 37,
   "metadata": {},
   "outputs": [
    {
     "data": {
      "text/plain": [
       "(17854, 14)"
      ]
     },
     "execution_count": 37,
     "metadata": {},
     "output_type": "execute_result"
    }
   ],
   "source": [
    "cuisines_df = cuisines_df.join(cuisines)\n",
    "cuisines_df.shape"
   ]
  },
  {
   "cell_type": "code",
   "execution_count": 38,
   "metadata": {},
   "outputs": [
    {
     "name": "stdout",
     "output_type": "stream",
     "text": [
      "<class 'pandas.core.frame.DataFrame'>\n",
      "Int64Index: 17854 entries, 624 to 9275\n",
      "Data columns (total 14 columns):\n",
      " #   Column                Non-Null Count  Dtype   \n",
      "---  ------                --------------  -----   \n",
      " 0   restaurant_id         17854 non-null  object  \n",
      " 1   restaurant_name       17854 non-null  object  \n",
      " 2   city                  17854 non-null  object  \n",
      " 3   locality              17854 non-null  object  \n",
      " 4   cuisines              17854 non-null  object  \n",
      " 5   average_cost_for_two  17854 non-null  int64   \n",
      " 6   currency              17854 non-null  object  \n",
      " 7   has_table_booking     17854 non-null  object  \n",
      " 8   has_online_delivery   17854 non-null  object  \n",
      " 9   is_delivering_now     17854 non-null  object  \n",
      " 10  price_range           17854 non-null  category\n",
      " 11  rating                17854 non-null  category\n",
      " 12  votes                 17854 non-null  int64   \n",
      " 13  cuisine               17854 non-null  object  \n",
      "dtypes: category(2), int64(2), object(10)\n",
      "memory usage: 1.8+ MB\n"
     ]
    }
   ],
   "source": [
    "cuisines_df.info()"
   ]
  },
  {
   "cell_type": "code",
   "execution_count": 39,
   "metadata": {},
   "outputs": [
    {
     "data": {
      "image/png": "[encoded data removed]",
      "text/plain": [
       "<Figure size 720x360 with 1 Axes>"
      ]
     },
     "metadata": {
      "needs_background": "light"
     },
     "output_type": "display_data"
    }
   ],
   "source": [
    "cuisine_order = cuisines_df.cuisine.value_counts().index[:10]\n",
    "plt.figure(figsize = (10,5))\n",
    "sb.countplot(data = cuisines_df, y = \"cuisine\", order = cuisine_order, color = base_color);"
   ]
  },
  {
   "cell_type": "markdown",
   "metadata": {},
   "source": [
    "> Some cuisines are repeated with  same names, which suggests there are some unwanted spaces"
   ]
  },
  {
   "cell_type": "code",
   "execution_count": 40,
   "metadata": {},
   "outputs": [
    {
     "data": {
      "text/plain": [
       "array(['North Indian', 'Mughlai', 'Rajasthani', 'Chinese', 'European',\n",
       "       'Gujarati', 'Continental', 'South Indian', 'Desserts', 'Cafe',\n",
       "       'Italian', 'Mexican', 'Pizza', 'Fast Food', 'Mediterranean',\n",
       "       'Thai', 'Ice Cream', 'Beverages', 'Asian', 'Street Food',\n",
       "       'Sandwich', 'Burger', 'Healthy Food', 'American', 'Armenian',\n",
       "       'Salad', 'Bakery', 'Mithai', 'Biryani', 'Juices', 'Maharashtrian',\n",
       "       'Hyderabadi', 'Modern Indian', 'Finger Food', 'Tex-Mex', 'Arabian',\n",
       "       'Charcoal Grill', 'Steak', 'Seafood', 'Tea', 'Japanese',\n",
       "       'Malaysian', 'Burmese', 'Chettinad', 'Spanish', 'Greek', 'Indian',\n",
       "       'Parsi', 'Tibetan', 'Raw Meats', 'French', 'Goan', 'German',\n",
       "       'Kerala', 'Lebanese', 'Belgian', 'Kashmiri', 'Sushi',\n",
       "       'South American', 'Persian', 'Bengali', 'Portuguese', 'African',\n",
       "       'Iranian', 'Vietnamese', 'Lucknowi', 'Korean', 'Awadhi',\n",
       "       'Nepalese', 'Drinks Only', 'Pakistani', 'North Eastern', 'Oriya',\n",
       "       'Bihari', 'Afghani', 'Middle Eastern', 'Indonesian', 'Assamese',\n",
       "       'Andhra', 'Mangalorean', 'British', 'Malwani', 'Cuisine Varies',\n",
       "       'Turkish', 'Moroccan', 'Naga', 'Deli', 'Sri Lankan', 'BBQ',\n",
       "       'Cajun'], dtype=object)"
      ]
     },
     "execution_count": 40,
     "metadata": {},
     "output_type": "execute_result"
    }
   ],
   "source": [
    "cuisines_df.cuisine = cuisines_df.cuisine.str.strip()\n",
    "cuisines_df.cuisine.unique()"
   ]
  },
  {
   "cell_type": "code",
   "execution_count": 41,
   "metadata": {},
   "outputs": [
    {
     "data": {
      "image/png": "[encoded data removed]",
      "text/plain": [
       "<Figure size 720x360 with 1 Axes>"
      ]
     },
     "metadata": {
      "needs_background": "light"
     },
     "output_type": "display_data"
    }
   ],
   "source": [
    "cuisine_order = cuisines_df.cuisine.value_counts().index[:10]\n",
    "plt.figure(figsize = (10,5))\n",
    "sb.countplot(data = cuisines_df, y = \"cuisine\", order = cuisine_order, color = base_color);"
   ]
  },
  {
   "cell_type": "markdown",
   "metadata": {},
   "source": [
    "> Interestingly North Indian food is more common than South Indian food, as North Indian is the No. 1 cuisine in terms of number of restaurants and South Indian comes in the 8th place\n",
    "\n",
    "> Chinese, Fast Food are in the top 5 cuisines, also another famous unique cuisine which is called Mughlai, apparently it's an indian, turkish/persian influenced cuisine"
   ]
  },
  {
   "cell_type": "code",
   "execution_count": 42,
   "metadata": {},
   "outputs": [
    {
     "data": {
      "image/png": "[encoded data removed]",
      "text/plain": [
       "<Figure size 360x360 with 1 Axes>"
      ]
     },
     "metadata": {
      "needs_background": "light"
     },
     "output_type": "display_data"
    }
   ],
   "source": [
    "city_order = restaurants_df.city.value_counts().index[:10]\n",
    "plt.figure(figsize = (5,5))\n",
    "sb.countplot(data = restaurants_df, y = \"city\", order = city_order, color = base_color);"
   ]
  },
  {
   "cell_type": "markdown",
   "metadata": {},
   "source": [
    "> Restaurants in this dataset are mainly located in four areas, here's from top to bottom, New Delhi, Gurgaon, Noida, Faridabad, other areas can be dropped or grouped together"
   ]
  },
  {
   "cell_type": "code",
   "execution_count": 43,
   "metadata": {},
   "outputs": [],
   "source": [
    "yes_no_order = [\"Yes\", \"No\"]"
   ]
  },
  {
   "cell_type": "code",
   "execution_count": 44,
   "metadata": {},
   "outputs": [
    {
     "data": {
      "image/png": "[encoded data removed]",
      "text/plain": [
       "<Figure size 360x360 with 1 Axes>"
      ]
     },
     "metadata": {
      "needs_background": "light"
     },
     "output_type": "display_data"
    }
   ],
   "source": [
    "plt.figure(figsize = (5,5))\n",
    "sb.countplot(data = restaurants_df, x = \"has_online_delivery\", order= yes_no_order, color = base_color);"
   ]
  },
  {
   "cell_type": "code",
   "execution_count": 45,
   "metadata": {},
   "outputs": [
    {
     "data": {
      "image/png": "[encoded data removed]",
      "text/plain": [
       "<Figure size 360x360 with 1 Axes>"
      ]
     },
     "metadata": {
      "needs_background": "light"
     },
     "output_type": "display_data"
    }
   ],
   "source": [
    "plt.figure(figsize = (5,5))\n",
    "sb.countplot(data = restaurants_df, x = \"has_table_booking\", order = yes_no_order ,color = base_color);"
   ]
  },
  {
   "cell_type": "markdown",
   "metadata": {},
   "source": [
    "> This will be interesting to see in comparison to ratings, does restaurants with no online ordering or no table booking tend to have less ratings?"
   ]
  },
  {
   "cell_type": "markdown",
   "metadata": {},
   "source": [
    "### Discuss the distribution(s) of your variable(s) of interest. Were there any unusual points? Did you need to perform any transformations?\n",
    "\n",
    "> For the ratings variable, there were no unusual points or transformations, we can take several directions though with the Not rated portion of the data, either treat them as nans and drop them, or add them to our analysis and explore them further and see any interesting patterns or trends for the restaurants that are not rated.\n",
    "\n",
    "> For the cuisines variable, I had to make a copy of the same data but tailored to cuisines, this is due to the fact that the cuisines column contained multiple cuisines for the same restaurant stored in the same cell, this would be a hassle to explore, I had to explode these rows into multiple rows with one cuisine per row, so one restaurant had multiple rows with different cuisines that's why I copied the data to another one to make dealing with the data easier for all my analysis\n",
    "\n",
    "### Of the features you investigated, were there any unusual distributions? Did you perform any operations on the data to tidy, adjust, or change the form of the data? If so, why did you do this?\n",
    "\n",
    "> Apart from the cuisine feature, `average_cost_for_two` appeared to have a very skewed distribution at first, after some transformation, I've found out this was due to the multiple currencies at hand, these currencies represent different countries, so I kept only Indian related data as it was large compared to other countries. after that I have made the same analysis on `average_cost_for_two` only on Indian rupees now and found the same skewness but way less than before. Also this skewnes was natural as they represent some overpriced restaurants, there was nothing strange with the data\n",
    "\n",
    "> `votes` variable also had a skewed distribution, I had to log transform the values in order to take a further look at how the data was distributed and found out that it had many peaks, also for ratings analysis we may have to drop any restaurants with votes less than 10 as there are many restaurants with only one, 5 or 7 votes which is not that reliable, but it's more of a business decision, for this analysis I kept all ratings."
   ]
  },
  {
   "cell_type": "markdown",
   "metadata": {},
   "source": [
    "## Bivariate Exploration"
   ]
  },
  {
   "cell_type": "code",
   "execution_count": 46,
   "metadata": {
    "scrolled": true
   },
   "outputs": [],
   "source": [
    "rating_per_col = restaurants_df.groupby(\"city\").rating.count()"
   ]
  },
  {
   "cell_type": "code",
   "execution_count": 47,
   "metadata": {},
   "outputs": [
    {
     "data": {
      "text/html": [
       "<div>\n",
       "<style scoped>\n",
       "    .dataframe tbody tr th:only-of-type {\n",
       "        vertical-align: middle;\n",
       "    }\n",
       "\n",
       "    .dataframe tbody tr th {\n",
       "        vertical-align: top;\n",
       "    }\n",
       "\n",
       "    .dataframe thead th {\n",
       "        text-align: right;\n",
       "    }\n",
       "</style>\n",
       "<table border=\"1\" class=\"dataframe\">\n",
       "  <thead>\n",
       "    <tr style=\"text-align: right;\">\n",
       "      <th></th>\n",
       "      <th>city</th>\n",
       "      <th>rating</th>\n",
       "      <th>rcount</th>\n",
       "    </tr>\n",
       "  </thead>\n",
       "  <tbody>\n",
       "    <tr>\n",
       "      <th>0</th>\n",
       "      <td>Agra</td>\n",
       "      <td>Not rated</td>\n",
       "      <td>0</td>\n",
       "    </tr>\n",
       "    <tr>\n",
       "      <th>1</th>\n",
       "      <td>Agra</td>\n",
       "      <td>Poor</td>\n",
       "      <td>0</td>\n",
       "    </tr>\n",
       "    <tr>\n",
       "      <th>2</th>\n",
       "      <td>Agra</td>\n",
       "      <td>Average</td>\n",
       "      <td>1</td>\n",
       "    </tr>\n",
       "    <tr>\n",
       "      <th>3</th>\n",
       "      <td>Agra</td>\n",
       "      <td>Good</td>\n",
       "      <td>9</td>\n",
       "    </tr>\n",
       "    <tr>\n",
       "      <th>4</th>\n",
       "      <td>Agra</td>\n",
       "      <td>Very Good</td>\n",
       "      <td>9</td>\n",
       "    </tr>\n",
       "    <tr>\n",
       "      <th>...</th>\n",
       "      <td>...</td>\n",
       "      <td>...</td>\n",
       "      <td>...</td>\n",
       "    </tr>\n",
       "    <tr>\n",
       "      <th>253</th>\n",
       "      <td>Vizag</td>\n",
       "      <td>Poor</td>\n",
       "      <td>0</td>\n",
       "    </tr>\n",
       "    <tr>\n",
       "      <th>254</th>\n",
       "      <td>Vizag</td>\n",
       "      <td>Average</td>\n",
       "      <td>0</td>\n",
       "    </tr>\n",
       "    <tr>\n",
       "      <th>255</th>\n",
       "      <td>Vizag</td>\n",
       "      <td>Good</td>\n",
       "      <td>10</td>\n",
       "    </tr>\n",
       "    <tr>\n",
       "      <th>256</th>\n",
       "      <td>Vizag</td>\n",
       "      <td>Very Good</td>\n",
       "      <td>8</td>\n",
       "    </tr>\n",
       "    <tr>\n",
       "      <th>257</th>\n",
       "      <td>Vizag</td>\n",
       "      <td>Excellent</td>\n",
       "      <td>2</td>\n",
       "    </tr>\n",
       "  </tbody>\n",
       "</table>\n",
       "<p>258 rows × 3 columns</p>\n",
       "</div>"
      ],
      "text/plain": [
       "      city     rating  rcount\n",
       "0     Agra  Not rated       0\n",
       "1     Agra       Poor       0\n",
       "2     Agra    Average       1\n",
       "3     Agra       Good       9\n",
       "4     Agra  Very Good       9\n",
       "..     ...        ...     ...\n",
       "253  Vizag       Poor       0\n",
       "254  Vizag    Average       0\n",
       "255  Vizag       Good      10\n",
       "256  Vizag  Very Good       8\n",
       "257  Vizag  Excellent       2\n",
       "\n",
       "[258 rows x 3 columns]"
      ]
     },
     "execution_count": 47,
     "metadata": {},
     "output_type": "execute_result"
    }
   ],
   "source": [
    "restaurants_df.groupby([\"city\",\"rating\"]).restaurant_id.count().reset_index().rename(columns = {\"restaurant_id\":\"rcount\"})"
   ]
  },
  {
   "cell_type": "code",
   "execution_count": 48,
   "metadata": {},
   "outputs": [],
   "source": [
    "# def get_rating_proportions(col):\n",
    "#     \"\"\" Get ratings proportion for each unique value for a given variable\n",
    "#     params:\n",
    "#         col: Variable on which we will group our data, and get ratings proportions with respect to it\n",
    "#     returns:\n",
    "#         col_ratings: Dataframe contains the column at hand and how different ratings contribute to each unique value\n",
    "#     \"\"\"\n",
    "#     rating_per_col = restaurants_df.groupby(col).rating.count()\n",
    "#     col_ratings = restaurants_df.groupby([col,\"rating\"]).restaurant_id.count().reset_index().rename(columns = {\"restaurant_id\":\"rcount\"})\n",
    "#     col_ratings[\"prop\"] = \"\"\n",
    "#     for col_rating in col_ratings[col].unique():\n",
    "#         total_ratings = rating_per_col[rating_per_col.index == col_rating].values[0]\n",
    "#         col_ratings.loc[col_ratings[col] == col_rating, \"prop\"] =  (col_ratings.loc[col_ratings[col] == col_rating, \"rcount\"]/ total_ratings) * 100\n",
    "#     return col_ratings"
   ]
  },
  {
   "cell_type": "code",
   "execution_count": null,
   "metadata": {},
   "outputs": [],
   "source": [
    "def get_proportions(data, col, wrt):\n",
    "    cuisine_per_col = data.groupby(col)[wrt].count()\n",
    "    col_cuisines = data.groupby([col,wrt]).restaurant_id.count().reset_index().rename(columns = {\"restaurant_id\":\"wrtcount\"})\n",
    "    col_cuisines[\"prop\"] = \"\"\n",
    "    for col_cuisine in col_cuisines[col].unique():\n",
    "        total_cuisines = cuisine_per_col[cuisine_per_col.index == col_cuisine].values[0]\n",
    "        col_cuisines.loc[col_cuisines[col] == col_cuisine, \"prop\"] =  (col_cuisines.loc[col_cuisines[col] == col_cuisine, \"wrtcount\"]/ total_cuisines) * 100\n",
    "    return col_cuisines"
   ]
  },
  {
   "cell_type": "code",
   "execution_count": null,
   "metadata": {},
   "outputs": [],
   "source": [
    "def get_cuisines_proportions(col):\n",
    "    \"\"\" Get cuisines proportion for each unique value for a given variable, if the variable has many unique values\n",
    "    we'll only focus our results on the top 5.\n",
    "    params:\n",
    "        col: Variable on which we will group our data, and get cuisines proportions with respect to it\n",
    "    returns:\n",
    "        col_cuisines: Dataframe contains the column at hand and how different cuisines contribute to each unique value\n",
    "    \"\"\"\n",
    "    \n",
    "    #only get top 5 values for the given variable for our analysis\n",
    "    data = cuisines_df.loc[cuisines_df[col].isin(cuisines_df[col].value_counts()[:5].index)] \n",
    "    data = data.loc[data.cuisine.isin(data.cuisine.value_counts()[:10].index),:] # get top 10 cuisines\n",
    "    return get_proportions(data, col, \"cuisine\")\n",
    "\n"
   ]
  },
  {
   "cell_type": "code",
   "execution_count": null,
   "metadata": {},
   "outputs": [],
   "source": [
    "def get_cuisines_proportions_invert(col):\n",
    "    \"\"\" Calculates how much each column unique value contributes to each cuisine, this is the inverse of get_cuisines_proportions, \n",
    "    and is found to be useful during the analysis if we want to shift our view.\n",
    "    params:\n",
    "        col: Variable on which we will group our data, besides cuisine\n",
    "    returns:\n",
    "        col_cuisines: Dataframe contains our column, cuisines and how each column unique value contributes to each cuisine\n",
    "    \"\"\"\n",
    "    #only get top 5 values for the given variable for our analysis\n",
    "    data = cuisines_df.loc[cuisines_df[col].isin(cuisines_df[col].value_counts()[:5].index)]\n",
    "    data = data.loc[data.cuisine.isin(data.cuisine.value_counts()[:10].index),:] # get top 10 cuisines\n",
    "    cuisine_per_col = data.groupby(\"cuisine\")[col].count() #get cuisines totals \n",
    "    #get each cuisine count for each unique value\n",
    "    col_cuisines = data.groupby([col,\"cuisine\"]).restaurant_id.count().reset_index().rename(columns = {\"restaurant_id\":\"ccount\"})\n",
    "    col_cuisines[\"prop\"] = \"\"\n",
    "    # calculate how each column unique value contributes to each cuisine\n",
    "    for col_cuisine in col_cuisines[\"cuisine\"].unique():\n",
    "        total_cuisines = cuisine_per_col[cuisine_per_col.index == col_cuisine].values[0]\n",
    "        col_cuisines.loc[col_cuisines[\"cuisine\"] == col_cuisine, \"prop\"] =  (col_cuisines.loc[col_cuisines[\"cuisine\"] == col_cuisine, \"ccount\"]/ total_cuisines) * 100\n",
    "    return col_cuisines"
   ]
  },
  {
   "cell_type": "code",
   "execution_count": null,
   "metadata": {},
   "outputs": [],
   "source": [
    "restaurants_df.info()"
   ]
  },
  {
   "cell_type": "code",
   "execution_count": null,
   "metadata": {},
   "outputs": [],
   "source": [
    "plt.figure(figsize= (10,5))\n",
    "sb.boxplot(data = restaurants_df, x = \"price_range\", y = \"average_cost_for_two\", color = base_color)"
   ]
  },
  {
   "cell_type": "markdown",
   "metadata": {},
   "source": [
    "> this is a confirmation of the meaning of the price ranges, 1 means low prices & 4 means the highest category or prices"
   ]
  },
  {
   "cell_type": "code",
   "execution_count": null,
   "metadata": {},
   "outputs": [],
   "source": [
    "# restaurants_df = restaurants_df.loc[restaurants_df.votes >= 10,:]"
   ]
  },
  {
   "cell_type": "code",
   "execution_count": null,
   "metadata": {},
   "outputs": [],
   "source": [
    "restaurants_df = restaurants_df.loc[restaurants_df.rating != \"Not rated\"]\n",
    "cuisines_df = cuisines_df.loc[cuisines_df.rating != \"Not rated\"]"
   ]
  },
  {
   "cell_type": "code",
   "execution_count": null,
   "metadata": {},
   "outputs": [],
   "source": [
    "new_ratings = [\"Poor\", \"Average\", \"Good\",\"Very Good\",\"Excellent\"]\n",
    "ratings = pd.api.types.CategoricalDtype(ordered = True,\n",
    "                                                categories = new_ratings)\n",
    "restaurants_df[\"rating\"] = restaurants_df[\"rating\"].astype(ratings)\n",
    "# cuisines_df = cuisines_df.loc[cuisines_df.votes >= 10,:]\n",
    "cuisines_df[\"rating\"] = cuisines_df[\"rating\"].astype(ratings)"
   ]
  },
  {
   "cell_type": "code",
   "execution_count": null,
   "metadata": {},
   "outputs": [],
   "source": [
    "plt.figure(figsize= (10,5))\n",
    "sb.boxplot(data = restaurants_df, x = \"rating\", y = \"votes\")"
   ]
  },
  {
   "cell_type": "markdown",
   "metadata": {},
   "source": [
    "> Poor and Average restaurants tend to have low count of votes, thats why I'll keep low votes in this analysis in order not to lose any major data\n",
    "\n",
    "> Also there is one restaurant that really stands out as Poor with high count of votes, apparently people really don't like it"
   ]
  },
  {
   "cell_type": "code",
   "execution_count": null,
   "metadata": {},
   "outputs": [],
   "source": [
    "restaurants_df.loc[(restaurants_df.rating == \"Poor\"),:].sort_values(\"votes\",ascending = False).head()[:2]"
   ]
  },
  {
   "cell_type": "markdown",
   "metadata": {},
   "source": [
    "The Wine Company really stands out in the Poor rating category with around 2400 votes"
   ]
  },
  {
   "cell_type": "code",
   "execution_count": null,
   "metadata": {},
   "outputs": [],
   "source": [
    "# first drop all cities and only keep 'New Delhi', 'Gurgaon', 'Noida', 'Faridabad'\n",
    "top_cities = restaurants_df.city.value_counts()[:4].index\n",
    "restaurants_df = restaurants_df.loc[restaurants_df.city.isin(top_cities), :]\n",
    "cuisines_df = cuisines_df.loc[cuisines_df.city.isin(top_cities),:]"
   ]
  },
  {
   "cell_type": "code",
   "execution_count": null,
   "metadata": {},
   "outputs": [],
   "source": [
    "plt.figure(figsize = (10,6))\n",
    "sb.countplot(data =restaurants_df, x = \"city\", hue = \"rating\")"
   ]
  },
  {
   "cell_type": "markdown",
   "metadata": {},
   "source": [
    "> Due to the large number of restaurants in New delhi, this comparison is not fair. it's better to work with proportions"
   ]
  },
  {
   "cell_type": "code",
   "execution_count": null,
   "metadata": {},
   "outputs": [],
   "source": [
    "plt.figure(figsize = (10,6))\n",
    "city_ratings = get_proportions(restaurants_df, \"city\", \"rating\")\n",
    "sb.barplot(data = city_ratings, x = \"city\", y = \"prop\", hue = \"rating\")"
   ]
  },
  {
   "cell_type": "markdown",
   "metadata": {},
   "source": [
    "> all cities have a big proportion of restaurants that are rated as average. \n",
    "\n",
    "> Faridabad have around 80% of it's restaurants rated as average.\n",
    "\n",
    "> Gurgaon have similar or a slightly higher percentage of Good/Excellent restaurants than New Delhi, keeping in mind that New Delhi have way more number of restaurants\n",
    "\n"
   ]
  },
  {
   "cell_type": "code",
   "execution_count": null,
   "metadata": {},
   "outputs": [],
   "source": [
    "price_range_ratings = get_proportions(restaurants_df, \"price_range\", \"rating\")\n",
    "plt.figure(figsize = (10,6))\n",
    "sb.barplot(data = price_range_ratings, x = \"price_range\", y = \"prop\", hue = \"rating\")"
   ]
  },
  {
   "cell_type": "markdown",
   "metadata": {},
   "source": [
    "> Restaurants with low price ranges have more Average ratings proportions\n",
    "\n",
    "> As we go up in price ranges restaurants tend have more Good, V.Good & Excellent proportions \n",
    "\n",
    "> Based on this relation we can say that maybe there is a positive correlation between price ranges and restaurant ratings"
   ]
  },
  {
   "cell_type": "code",
   "execution_count": null,
   "metadata": {},
   "outputs": [],
   "source": [
    "plt.figure(figsize = (10,5))\n",
    "sb.boxplot(data = restaurants_df, x = 'rating', y = 'average_cost_for_two', color = base_color)\n",
    "# plt.ylim(ax1.get_ylim()) #"
   ]
  },
  {
   "cell_type": "markdown",
   "metadata": {},
   "source": [
    "> Also the above box plot confirms the same conclusion from the price_range vs ratings, restaurants with higher cost to have higher ratings, this suggests the fact the more restaurants charge for their service the more the quality will be better and that's why people give higher ratings \n",
    "\n",
    "> These outliers are useful as we can extract Poor & Average restaurants that cost alot, and don't recommend them and extract the outliers that standout in Excellent/Very Good categories and recommend them as they are value for money "
   ]
  },
  {
   "cell_type": "code",
   "execution_count": null,
   "metadata": {},
   "outputs": [],
   "source": [
    "restaurants_df.loc[restaurants_df.rating == \"Poor\"].sort_values(\"average_cost_for_two\",ascending = False).head()"
   ]
  },
  {
   "cell_type": "code",
   "execution_count": null,
   "metadata": {},
   "outputs": [],
   "source": [
    "def extract_restaurant_name_outlier(category):\n",
    "    \"\"\" Extracts outliers for a given rating category\n",
    "    params:\n",
    "    category: Rating category\n",
    "    returns:\n",
    "        restaurant_name: Restaurant name\n",
    "    \"\"\"\n",
    "    outliers = restaurants_df.loc[restaurants_df.rating == category]\n",
    "    outliers = outliers.sort_values(\"average_cost_for_two\",ascending = False)\n",
    "    restaurant_name = outliers.restaurant_name.values[0]\n",
    "    return restaurant_name"
   ]
  },
  {
   "cell_type": "code",
   "execution_count": null,
   "metadata": {},
   "outputs": [],
   "source": [
    "most_poor = extract_restaurant_name_outlier(\"Poor\")\n",
    "most_average = extract_restaurant_name_outlier(\"Average\")\n",
    "print(\" \\\"{}\\\" & \\\"{}\\\" restaurants have the low value for money \".format(most_poor, most_average))"
   ]
  },
  {
   "cell_type": "code",
   "execution_count": null,
   "metadata": {},
   "outputs": [],
   "source": [
    "vry_good = extract_restaurant_name_outlier(\"Very Good\")\n",
    "excellent = extract_restaurant_name_outlier(\"Excellent\")\n",
    "print(\"\\\"{}\\\" & \\\"{}\\\"  restaurant have high value for money \".format(vry_good, excellent))"
   ]
  },
  {
   "cell_type": "code",
   "execution_count": null,
   "metadata": {},
   "outputs": [],
   "source": [
    "plt.figure(figsize = (10,6))\n",
    "has_online_delivery_ratings = get_rating_proportions(\"has_online_delivery\")\n",
    "sb.barplot(data =has_online_delivery_ratings, x = \"has_online_delivery\", y = \"prop\", hue = \"rating\")"
   ]
  },
  {
   "cell_type": "code",
   "execution_count": null,
   "metadata": {},
   "outputs": [],
   "source": [
    "plt.figure(figsize = (10,6))\n",
    "has_table_booking_ratings = get_rating_proportions(\"has_table_booking\")\n",
    "sb.barplot(data =has_table_booking_ratings, x = \"has_table_booking\", y = \"prop\", hue = \"rating\")"
   ]
  },
  {
   "cell_type": "markdown",
   "metadata": {},
   "source": [
    "> Restaurants with online delivery or table bookings tend to have higher ratings"
   ]
  },
  {
   "cell_type": "code",
   "execution_count": null,
   "metadata": {},
   "outputs": [],
   "source": [
    "# top cuisines in top cities\n",
    "cuisines_df.groupby(\"city\").cuisine.count()"
   ]
  },
  {
   "cell_type": "code",
   "execution_count": null,
   "metadata": {
    "scrolled": false
   },
   "outputs": [],
   "source": [
    "plt.figure(figsize = (10,6))\n",
    "city_cuisines = get_cuisines_proportions(\"city\")\n",
    "sb.barplot(data =city_cuisines, x = \"city\", y = \"prop\", hue = \"cuisine\")"
   ]
  },
  {
   "cell_type": "markdown",
   "metadata": {},
   "source": [
    "> Nothing important here "
   ]
  },
  {
   "cell_type": "code",
   "execution_count": null,
   "metadata": {},
   "outputs": [],
   "source": [
    "plt.figure(figsize = (10,8))\n",
    "locality_cuisines = get_cuisines_proportions(\"locality\")\n",
    "sb.barplot(data =locality_cuisines, x = \"locality\", y = \"prop\", hue = \"cuisine\")"
   ]
  },
  {
   "cell_type": "markdown",
   "metadata": {},
   "source": [
    "> North indian cuisine is very popular in the top locals, also chinese cuisine\n",
    "\n",
    "> Satyaniketan has a high proportion of cafes compared to other places, also Satyaniketan & Connaught Place has  alot of italian & continental restaurants \n",
    "\n",
    "> Also this graph is too crowded it needs another view"
   ]
  },
  {
   "cell_type": "code",
   "execution_count": null,
   "metadata": {},
   "outputs": [],
   "source": [
    "plt.figure(figsize = (12,8))\n",
    "locality_cuisines = get_cuisines_proportions_invert(\"locality\")\n",
    "sb.barplot(data =locality_cuisines, x = \"prop\", y = \"cuisine\", hue = \"locality\")"
   ]
  },
  {
   "cell_type": "markdown",
   "metadata": {},
   "source": [
    "> It's more apparent here that Cafes are found in Satyaniketan more"
   ]
  },
  {
   "cell_type": "code",
   "execution_count": null,
   "metadata": {},
   "outputs": [],
   "source": [
    "plt.figure(figsize = (15,10))\n",
    "price_cuisines = get_cuisines_proportions(\"price_range\")\n",
    "sb.barplot(data =price_cuisines, x = \"price_range\", y = \"prop\", hue = \"cuisine\")"
   ]
  },
  {
   "cell_type": "markdown",
   "metadata": {},
   "source": [
    "> North indian & chinese cuisines has a wide price range\n",
    "\n",
    "> As you go higher in budget you will find less of these cuisines Bakery, Desserts, Fast food, South indian cuisines.\n",
    "\n",
    "> Italian and continental cuisines have higher price ranges\n",
    "\n",
    "> Street food have lower price ranges"
   ]
  },
  {
   "cell_type": "code",
   "execution_count": null,
   "metadata": {},
   "outputs": [],
   "source": [
    "cuisines_df.cuisine.value_counts()[:10].index"
   ]
  },
  {
   "cell_type": "code",
   "execution_count": null,
   "metadata": {},
   "outputs": [],
   "source": [
    "cuisines_order = ['North Indian', 'Chinese', 'Italian', 'Continental', 'Fast Food','South Indian', 'Bakery'\n",
    "       , 'Desserts', 'Mughlai', 'Street Food']\n",
    "plt.figure(figsize = (15,10))\n",
    "price_cuisines = get_cuisines_proportions_invert(\"price_range\")\n",
    "sb.barplot(data =price_cuisines, x = \"cuisine\", y = \"prop\", hue = \"price_range\", order = cuisines_order)"
   ]
  },
  {
   "cell_type": "markdown",
   "metadata": {},
   "source": [
    "> North Indian and chinese cuisines have pretty similar price ranges \n",
    "\n",
    "> Italian and Continental cuisines are also similar in price ranges, they tend to be of higher quality/price\n",
    "\n",
    "> Fast Food and South Indian have similar price ranges they tend to be at medium - low category\n",
    "\n",
    "> Bakery and Desserts have similar price ranges they tend to be at medium - low category but more on the low end\n",
    "\n",
    "> Mughlai tend to be in the medium price range territory\n",
    "\n",
    "> Apparently South indian cuisine tend to be more cheaper than North indian cuisine\n"
   ]
  },
  {
   "cell_type": "code",
   "execution_count": null,
   "metadata": {},
   "outputs": [],
   "source": [
    "plt.figure(figsize = (10,5))\n",
    "# tmp_cuisine = cuisines_df.loc[cuisines_df.cuisine.isin(cuisines_order),:]\n",
    "sb.boxplot(data = cuisines_df, x = 'cuisine', y = 'average_cost_for_two', color = base_color, order = cuisines_order)\n",
    "# plt.ylim(ax1.get_ylim()) #"
   ]
  },
  {
   "cell_type": "markdown",
   "metadata": {},
   "source": [
    "> The distribution of `average_price_for_two` captures the relation between cuisine and price ranges better,\n",
    "we can see here that Italian and Continental cuisines have higher price ranges, then in the next level we can see North Indian and chinese having also pretty similar price ranges, also Mughlai cuisine is close to them having a narrower distribution, then in the next category we'll find Fast food, South Indian, Desserts & Bakery having similar price ranges, with bakery having the lower median, and the lowest price range of all is of course Street Food"
   ]
  },
  {
   "cell_type": "code",
   "execution_count": null,
   "metadata": {},
   "outputs": [],
   "source": [
    "# cuisines_order = ['North Indian', 'Chinese', 'Italian',  'Continental', 'Fast Food', 'Mughlai', 'Bakery',\n",
    "#        'South Indian', 'Desserts', 'Street Food']\n",
    "plt.figure(figsize = (10,5))\n",
    "rating_cuisines = get_cuisines_proportions_invert(\"rating\")\n",
    "sb.barplot(data =rating_cuisines, x = \"cuisine\", y = \"prop\", hue = \"rating\", order = cuisines_order)"
   ]
  },
  {
   "cell_type": "markdown",
   "metadata": {},
   "source": [
    "> Italian and continental restaurants also tend to be rated higher than other restaurants, probably justifying the \n",
    "higher price ranges as restaurants who will charge more probably will have a higher quality overall for their services"
   ]
  },
  {
   "cell_type": "markdown",
   "metadata": {},
   "source": [
    "### Talk about some of the relationships you observed in this part of the investigation. How did the feature(s) of interest vary with other features in the dataset?\n",
    "\n",
    "\n",
    "> Poor and Average ratings have the lowest number of votes, as you go higher in rating the number of votes increase, \n",
    "there was something interesting here as there was one restaurant the standed out as really poor as it has very high number \n",
    "of ratings related to others which was The Wine Company \n",
    "\n",
    "\n",
    "> For the cities, Gurgaon have similar or a slightly higher percentage of Good/Excellent restaurants than New Delhi, \n",
    "keeping in mind that New Delhi have way more number of restaurants, Also 80% of Faridabad restaurants are rated as Average\n",
    "\n",
    "> There is a positive correlation between price ranges/ average cost for two with ratings, in other words as we go higher in price restaurants probably\n",
    "will be rated better, this suggests the fact the more restaurants charge for their service the more the quality will be better\n",
    "and that's why people give higher ratings\n",
    "\n",
    ">Also the outliers in the average_cost_for_two were really useful as we can recommend the value for money for these restaurants\n",
    "in other words some restaurants tend to charge really high prices but they are rated as Poor and some charge these high prices and they are Excellent\n",
    "Some examples are: \n",
    "\"Chicane\" & \"Nostalgia at 1911 Brasserie - The Imperial\" restaurants have low value for money \n",
    "\"Orient Express - Taj Palace Hotel\" & \"Masala Library\"  restaurant have high value for money \n",
    "\n",
    "> Restaurants with online delivery or table bookings tend to be rated higher, but this is not necessarily true as correlation doesn't imply causation\n",
    "\n",
    ">As for cuisines when looking at top locations vs cuisines what standed out is that Satyaniketan apparently is more of a Cafe area \n",
    "\n",
    "> when looking at price ranges vs cuisines we find out some interesting stuff\n",
    "* North Indian and chinese cuisines have pretty similar price ranges\n",
    "* Italian and Continental cuisines are also similar in price ranges, they tend to be of higher quality/price\n",
    "* Fast Food and South Indian have similar price ranges they tend to be at medium - low category\n",
    "* Bakery and Desserts have similar price ranges they tend to be at medium - low category but more on the low end\n",
    "* Mughlai tend to be in the medium price range territory, also closer to North Indian, Chinese cuisines price ranges\n",
    "* Apparently South indian cuisine tend to be more cheaper than North indian cuisine\n",
    "\n",
    "\n",
    ">Italian and continental restaurants also tend to be rated higher than other restaurants, \n",
    "justifying the previous assumption that restaurants who will charge more probably will have a higher quality overall for their services\n",
    "\n",
    "\n",
    "\n",
    "\n",
    "\n",
    "### Did you observe any interesting relationships between the other features (not the main feature(s) of interest)?\n",
    "\n",
    "> Only one relation was explored between other features, which is the relation between price ranges & average cost for two, the assumption at first was 1 means low price range and 4 means high, this was confirmed using a box plot and seeing the correlation between the two variables "
   ]
  },
  {
   "cell_type": "markdown",
   "metadata": {},
   "source": [
    "## Multivariate Exploration\n"
   ]
  },
  {
   "cell_type": "code",
   "execution_count": null,
   "metadata": {},
   "outputs": [],
   "source": [
    "restaurants_df.info()"
   ]
  },
  {
   "cell_type": "code",
   "execution_count": null,
   "metadata": {},
   "outputs": [],
   "source": [
    "restaurants_df.columns"
   ]
  },
  {
   "cell_type": "code",
   "execution_count": null,
   "metadata": {},
   "outputs": [],
   "source": [
    "g = sb.FacetGrid(data = restaurants_df, col = 'price_range', size = 4)\n",
    "g.map(sb.boxplot, 'rating', 'votes')"
   ]
  },
  {
   "cell_type": "markdown",
   "metadata": {},
   "source": [
    "> Poor and Average ratings have low amount of votes in general\n",
    "\n",
    "> For low price ranges, we find low amount of votes on high ratings but as we go higher in price range we tend to have more votes for high ratings, this correlates with our previous assumption when restaurants have higher price ranges they to be rated highly as probably the quality will be better."
   ]
  },
  {
   "cell_type": "code",
   "execution_count": null,
   "metadata": {},
   "outputs": [],
   "source": [
    "plt.figure(figsize=(10,10))\n",
    "g = sb.FacetGrid(data = restaurants_df, col = 'price_range', size = 4)\n",
    "g.map(sb.boxplot, 'rating', 'average_cost_for_two')"
   ]
  },
  {
   "cell_type": "code",
   "execution_count": null,
   "metadata": {},
   "outputs": [],
   "source": [
    "top_10_cuisine_df = cuisines_df.loc[cuisines_df.cuisine.isin(cuisines_order)]"
   ]
  },
  {
   "cell_type": "code",
   "execution_count": null,
   "metadata": {},
   "outputs": [],
   "source": [
    "# plt.figure(figsize=(10,10))\n",
    "g = sb.FacetGrid(data = top_10_cuisine_df,col_wrap = 4,col = 'cuisine')\n",
    "g.map(sb.boxplot, 'city', 'average_cost_for_two')\n"
   ]
  },
  {
   "cell_type": "markdown",
   "metadata": {},
   "source": [
    "cost distribution in Faridabad tend to be low for all cuisines compared to other cities\n",
    "\n",
    "Apparently due to the fact that it has a large number of restaurants, New delhi have the most wide range of restaurant prices in probably every cuisine with some overpriced restaurants in these cuisines : chinese, north/south indian, italian and continental, Gurgaon comes close to New Delhi but it doesn't have these much of highly priced restaurants \n",
    "    \n"
   ]
  },
  {
   "cell_type": "code",
   "execution_count": null,
   "metadata": {},
   "outputs": [],
   "source": [
    "# top_10_cuisine_df = cuisines_df.loc[cuisines_df.cuisine.isin(cuisines_order)]\n",
    "\n",
    "g = sb.FacetGrid(data = top_10_cuisine_df,col_wrap = 4,col = 'cuisine')\n",
    "g.map(sb.boxplot, 'rating', 'average_cost_for_two')\n",
    "# plt.title(\"Rating vs Average cost for two per Cuisine\")\n",
    "g.set_xticklabels(rotation = 20)#.xticks(rotation = 15)\n",
    "for ax in g.axes[5:]:\n",
    "    ax.set_xlabel(\"Rating\")\n",
    "for i in [0,4,8]:\n",
    "    g.axes[i].set_ylabel(\"Average cost for two\")"
   ]
  },
  {
   "cell_type": "markdown",
   "metadata": {},
   "source": [
    "> Generally restaurants which charge higher for their services, will get better ratings, this is apparent in most cuisines with some anomalies\n",
    "\n",
    "> This pattern fails in Italian cuisine as we find some Excellent restaurants falling in lower price ranges\n",
    "\n",
    "> Continental restaurants rated as Poor have very high costs, they have low value for money.\n",
    "\n",
    "> There is no street food restaurant rated as Excellent.\n",
    "\n"
   ]
  },
  {
   "cell_type": "markdown",
   "metadata": {},
   "source": [
    "### Talk about some of the relationships you observed in this part of the investigation. Were there features that strengthened each other in terms of looking at your feature(s) of interest?\n",
    "\n",
    "> I added the number of votes to my price range vs ratings investigation, after plotting the three variables together it strengthened the previous conclusion of having better ratings for higher prices\n",
    "\n",
    "> Also the average cost per city per cuisine showed that Faridabad have generally low cost restaurants on the other hand New Delhi had a much more wide distribution of prices for each cuisine\n",
    "\n",
    "> After plotting Ratings vs average cost for each cuisine, We find again the same positive correlation between ratings and restaurants costs for every cuisine with few anomalies in some cuisines\n",
    "\n",
    "### Were there any interesting or surprising interactions between features?\n",
    "\n",
    "> Nothing Extra interesting or new was found to be added in here"
   ]
  },
  {
   "cell_type": "code",
   "execution_count": null,
   "metadata": {},
   "outputs": [],
   "source": []
  }
 ],
 "metadata": {
  "kernelspec": {
   "display_name": "Python 3",
   "language": "python",
   "name": "python3"
  },
  "language_info": {
   "codemirror_mode": {
    "name": "ipython",
    "version": 3
   },
   "file_extension": ".py",
   "mimetype": "text/x-python",
   "name": "python",
   "nbconvert_exporter": "python",
   "pygments_lexer": "ipython3",
   "version": "3.8.3"
  }
 },
 "nbformat": 4,
 "nbformat_minor": 2
}
